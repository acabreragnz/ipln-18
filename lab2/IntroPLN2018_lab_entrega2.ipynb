{
 "cells": [
  {
   "cell_type": "markdown",
   "metadata": {},
   "source": [
    "# Entrega 2 - Introducción al Procesamiento del Lenguaje Natural 2018 \n"
   ]
  },
  {
   "cell_type": "markdown",
   "metadata": {},
   "source": [
    "Este *notebook* de Python contiene las instrucciones para la segunda entrega del curso Introducción al Procesamiento de Lenguaje Natural. En el mismo se encontrará con instrucciones en bloques de texto y bloques de código para completar. Si bien no debe modificar la estructura base del notebook, puede agregar los bloques de texto o código que considere pertinentes para aportar claridad a la entrega."
   ]
  },
  {
   "cell_type": "markdown",
   "metadata": {},
   "source": [
    "Verifique que su entorno de Python 3 contiene todas las bibliotecas necesarias. Ejecute el bloque código a continuación para importar las bibliotecas nltk, sklearn y otras que le serán de utilidad. Verifique que se importan sin errores. "
   ]
  },
  {
   "cell_type": "code",
   "execution_count": null,
   "metadata": {},
   "outputs": [],
   "source": [
    "import nltk\n",
    "import sklearn\n",
    "import os \n",
    "import json\n",
    "import random"
   ]
  },
  {
   "cell_type": "markdown",
   "metadata": {},
   "source": [
    "## Lectura de datos"
   ]
  },
  {
   "cell_type": "markdown",
   "metadata": {},
   "source": [
    "### Corpus"
   ]
  },
  {
   "cell_type": "markdown",
   "metadata": {},
   "source": [
    "Observe el corpus contenido en el directorio *restaurante-review-dataset* extraído de [1]. Note la partición en entrenamiento (train), validación (val) y evaluación (test). Ejecute el bloque a continuación para cargar el contenido del corpus en tres variable: *train*, *validation* y *test*. Se utiliza como estructura de datos una lista de pares (comentario, valor), donde comentario es una string con el comentario y valor corresponde a la string \"POS\" o \"NEG\" si el comentario es positivo o negativo, respectivamente.\n",
    " \n",
    "[1] Dubiau, L., & Ale, J. M. (2013). Análisis de Sentimientos sobre un Corpus en Español: Experimentación con un Caso de Estudio. In Proceedings of the 14th Argentine Symposium on Artificial Intelligence, ASAI (pp. 36-47).\n"
   ]
  },
  {
   "cell_type": "code",
   "execution_count": null,
   "metadata": {},
   "outputs": [],
   "source": [
    "def load_data(directory, val):\n",
    "    data = []\n",
    "    for file in os.listdir(directory):\n",
    "        with open(os.path.join(directory, file)) as f:\n",
    "            file_data = json.load(f)\n",
    "            data += [(l,val) for l in file_data]\n",
    "    return data\n",
    "\n",
    "corpus_train_dirs = [\n",
    "    (\"./restaurante-review-dataset/train-neg/\", \"NEG\"),\n",
    "    (\"./restaurante-review-dataset/train-pos/\", \"POS\"),\n",
    "]\n",
    "corpus_val_dirs = [\n",
    "    (\"./restaurante-review-dataset/val-neg/\", \"NEG\"),\n",
    "    (\"./restaurante-review-dataset/val-pos/\", \"POS\"),\n",
    "]\n",
    "corpus_test_dirs = [\n",
    "    (\"./restaurante-review-dataset/test-neg/\", \"NEG\"),\n",
    "    (\"./restaurante-review-dataset/test-pos/\", \"POS\"),\n",
    "]\n",
    "\n",
    "train, validation, test = [],[],[]\n",
    "for d,v in corpus_train_dirs:\n",
    "    train += load_data(d, v)\n",
    "for d,v in corpus_val_dirs:\n",
    "    validation += load_data(d, v)\n",
    "for d,v in corpus_test_dirs:\n",
    "    test += load_data(d, v)\n",
    "\n",
    "random.Random(1234).shuffle(train)\n",
    "random.Random(2345).shuffle(validation)\n",
    "random.Random(3456).shuffle(test)"
   ]
  },
  {
   "cell_type": "markdown",
   "metadata": {},
   "source": [
    "Despliegue en pantalla la cantidad de elementos positivos, negativos y totales de cada partición del corpus."
   ]
  },
  {
   "cell_type": "code",
   "execution_count": null,
   "metadata": {},
   "outputs": [],
   "source": [
    "trainPOS = sum(1 for comentario in train if comentario[1] == 'POS')\n",
    "trainTOT = len(train)\n",
    "trainNEG = trainTOT - trainPOS\n",
    "\n",
    "validationPOS = sum(1 for comentario in validation if comentario[1] == 'POS')\n",
    "validationTOT = len(validation)\n",
    "validationNEG = validationTOT - validationPOS\n",
    "\n",
    "testPOS = sum(1 for comentario in test if comentario[1] == 'POS')\n",
    "testTOT = len(test)\n",
    "testNEG = testTOT - testPOS\n",
    "\n",
    "print(\"En la partición 'train' hay un total de {} comentarios de los cuales {} son positivos y {} son negativos.\\n\".format(trainTOT, trainPOS, trainNEG))\n",
    "print(\"En la partición 'validation' hay un total de {} comentarios de los cuales {} son positivos y {} son negativos.\\n\".format(validationTOT, validationPOS, validationNEG))\n",
    "print(\"En la partición 'test' hay un total de {} comentarios de los cuales {} son positivos y {} son negativos.\\n\".format(testTOT, testPOS, testNEG))"
   ]
  },
  {
   "cell_type": "markdown",
   "metadata": {},
   "source": [
    "### Vectores"
   ]
  },
  {
   "cell_type": "markdown",
   "metadata": {},
   "source": [
    "Los *word vectors* son representaciones vectoriales de las palabras construidas a partir de grandes colecciones de texto. Junto a este *notebook* se imparte un reportorio de vectores construido a partir de un corpus en español usando *skip-gram* con *negative sampling* (SGNS)[1]\n",
    "\n",
    "En esta sección cargará en memoria y utilizará el repertorio de vectores impartido. Además, se evaluará la cobertura del repertorio en el corpus y se estudiará las palabras del corpus no contempladas en el repertorio de vectores (*out-of-vocabulary terms*).\n",
    "\n",
    "En el directorio *vectores* se encuentran dos archivos:\n",
    "\n",
    "- sgns_spvectors_300.txt con la lista de palabras del repertorio\n",
    "- sgns_spvectors_300.npy con la matriz que contiene cada vector\n",
    "\n",
    "Defina un mecanismo para cargar en memoria los vectores y para obtener en tiempo eficiente el vector correspondiente a una palabra. Tenga en cuenta lo siguiente:\n",
    "\n",
    "- puede serle útil un diccionario que a cada palabra le corresponda su índice en la matriz\n",
    "- resuelva que hacer con las palabras que no están en el repertorio de vectores\n",
    "\n",
    "\n",
    "[1] Mikolov, T., Sutskever, I., Chen, K., Corrado, G. S., & Dean, J. (2013). Distributed representations of words and phrases and their compositionality. In Advances in neural information processing systems (pp. 3111-3119).\n"
   ]
  },
  {
   "cell_type": "code",
   "execution_count": null,
   "metadata": {},
   "outputs": [],
   "source": [
    "import numpy as np\n",
    "\n",
    "vectors = np.load('./vectores/sgns_spvectors_300.npy')\n",
    "\n",
    "with open('./vectores/sgns_spvectors_300.txt', 'r') as f:\n",
    "    words = f.read().splitlines()\n",
    "\n",
    "numToWord = dict(list(enumerate(words)))\n",
    "wordToNum = {v: k for k, v in numToWord.items()}\n",
    "\n",
    "def getVector(vectors, word):\n",
    "    try:\n",
    "        vec = vectors[wordToNum[word]]\n",
    "    except KeyError:\n",
    "        return [0 for _ in range(300)]\n",
    "    return vec"
   ]
  },
  {
   "cell_type": "markdown",
   "metadata": {},
   "source": [
    "A continuación realice pruebas con los vectores almacenados. En el siguiente bloque de código realice lo siguiente:\n",
    "\n",
    "1. Defina una función de similitud entre vectores\n",
    "2. Imprima la similitud entre los vectores de las palabras de ejemplo\n",
    "3. Defina un conjunto de pares de palabras del repertorio de vectores (*pares_estudiante*)\n",
    "4. Imprima la similitud de los vectores de las palabras definidas en el paso anterior\n",
    "5. Imprima el vector correspondiente a una palabra que no se encuentre en el repertorio de vectores"
   ]
  },
  {
   "cell_type": "code",
   "execution_count": null,
   "metadata": {},
   "outputs": [],
   "source": [
    "from scipy.spatial.distance import cosine\n",
    "\n",
    "def similarity(vector1, vector2):\n",
    "    return 1 - cosine(vector1, vector2)\n",
    "\n",
    "pares = [\n",
    "    ('bueno','excelente'),\n",
    "    ('bueno','buena'),\n",
    "    ('bueno','malo'),\n",
    "    ('malo','espantoso'),\n",
    "    ('comida', 'ambiente'),\n",
    "    ('comida', 'bebida'),\n",
    "    ('comida', 'postre'),\n",
    "    ('comida', 'sabor'),\n",
    "    ('servicio', 'comida'),\n",
    "    ('servicio', 'ambiente'),\n",
    "    ('ambiente', 'calor'),\n",
    "    ('frío', 'calor'),\n",
    "]\n",
    "\n",
    "print(\"Conjunto 'pares':\\n\")\n",
    "\n",
    "for pair in pares:\n",
    "    vector0 = getVector(vectors, pair[0])\n",
    "    vector1 = getVector(vectors, pair[1])\n",
    "    print(\"La similitud entre '{}' y '{}' es {}.\".format(pair[0], pair[1], similarity(vector0, vector1)))\n",
    "\n",
    "print(\"\\nConjunto 'pares_estudiante':\\n\")\n",
    "\n",
    "pares_estudiante = [\n",
    "    ('bodka', 'vodka'),\n",
    "    ('manuela', 'marea'),\n",
    "] \n",
    "\n",
    "for pair in pares_estudiante:\n",
    "    vector0 = getVector(vectors, pair[0])\n",
    "    vector1 = getVector(vectors, pair[1])\n",
    "    print(\"La similitud entre '{}' y '{}' es {}.\".format(pair[0], pair[1], similarity(vector0, vector1)))"
   ]
  },
  {
   "cell_type": "markdown",
   "metadata": {},
   "source": [
    "¿Qué observa en los resultados obtenidos?\n",
    "\n",
    "**Respuesta:**\n",
    "\n",
    "COMPLETAR CON LA RESPUESTA\n",
    "\n",
    "."
   ]
  },
  {
   "cell_type": "markdown",
   "metadata": {},
   "source": [
    "En el bloque de código a continuación realice lo siguiente:\n",
    "- Separe el corpus en palabras con nltk.wordpunct_tokenize (todas la partes: train, validacion y test)\n",
    "- Convierta las palabras a minúsculas dado que el repertorio de vectores está en minúsculas\n",
    "- Almacene las palabras resultantes en una variable llamada *vocabulario*. Considere una estructura adecuada para no tener palabras repetidas.\n",
    "- Despliegue en pantalla la cantidad de palabras de *vocabulario*"
   ]
  },
  {
   "cell_type": "code",
   "execution_count": null,
   "metadata": {},
   "outputs": [],
   "source": [
    "vocabulario = set()\n",
    "\n",
    "for comment in train + validation + test:\n",
    "    tokenizedComment = nltk.wordpunct_tokenize(comment[0].lower())\n",
    "    for word in tokenizedComment:\n",
    "        vocabulario.add(word)\n",
    "\n",
    "print(len(vocabulario))\n"
   ]
  },
  {
   "cell_type": "markdown",
   "metadata": {},
   "source": [
    "Construya los siguientes dos conjuntos:\n",
    "\n",
    "1. Palabras de *vocabulario* que tienen un vector asociado en el repertorio de vectores.\n",
    "2. Palabras de *vocabulario* que **no** tienen un vector en el repertorio de vectores.\n",
    "\n",
    "Imprima la cantidad de palabras de cada conjunto. Imprima además un muestreo de las palabras del conjunto 2.\n",
    "\n"
   ]
  },
  {
   "cell_type": "code",
   "execution_count": null,
   "metadata": {},
   "outputs": [],
   "source": [
    "hasVector = set()\n",
    "hasVectorNot = set()\n",
    "\n",
    "for word in vocabulario:\n",
    "    try:\n",
    "        vec = vectors[wordToNum[word]]\n",
    "    except KeyError:\n",
    "        hasVectorNot.add(word)\n",
    "    hasVector.add(word)\n",
    "\n",
    "for word in enumerate(list(hasVectorNot)):\n",
    "    print(word[1])\n",
    "    if (word[0] == 20): break;\n",
    "    \n"
   ]
  },
  {
   "cell_type": "markdown",
   "metadata": {},
   "source": [
    "¿Qué observa en el muestreo de palabras que no tienen un vector asociado (conjunto 2)?\n",
    "\n",
    "\n",
    "**Respuesta:**\n",
    "\n",
    "COMPLETAR CON LA RESPUESTA\n",
    "\n",
    "\n",
    "."
   ]
  },
  {
   "cell_type": "markdown",
   "metadata": {},
   "source": [
    "## Representación vectorial de la oración"
   ]
  },
  {
   "cell_type": "markdown",
   "metadata": {},
   "source": [
    "### Bolsa de Palabras"
   ]
  },
  {
   "cell_type": "markdown",
   "metadata": {},
   "source": [
    "Realice una representación de bolsa de palabras con *stemming* para los comentarios del corpus considerando únicamente los conjuntos de entrenamiento y validación. Utilice la clase *sklearn.CountVectorizer* con una configuración de parámetros con considere adecuada. Esta representación será utilizada posteriormente para realizar clasificiación supervisada.\n",
    "\n",
    "**Sugerencia:** Utilice el parámetro *min_df* y *max_df* para reducir la dimensión del vector de la bolsa de palabras. Se sugiere que la dimensión de la representación sea menor a 500."
   ]
  },
  {
   "cell_type": "code",
   "execution_count": null,
   "metadata": {},
   "outputs": [],
   "source": [
    "\n"
   ]
  },
  {
   "cell_type": "markdown",
   "metadata": {},
   "source": [
    "En el siguiente bloque de código realice lo siguiente:\n",
    "\n",
    "- Despliegue la representacion (bow) de la oración presentada como ejemplo\n",
    "- Despliegue además la cantidad de palabras de la bolsa de palabras"
   ]
  },
  {
   "cell_type": "code",
   "execution_count": null,
   "metadata": {},
   "outputs": [],
   "source": [
    "oracion_ej = 'Muy pero muy buena rica la comida y muy ricas tartas'\n",
    "\n",
    "# COMPLETE A PARTIR DE AQUI\n"
   ]
  },
  {
   "cell_type": "markdown",
   "metadata": {},
   "source": [
    "Ejecute el bloque de código a continuación para definir la funcion *imprimir_tiempo*. Esta función despliega en pantalla el tiempo transcurrido a partir del timestamp pasado como parámetro. Si desea puede utilizarla para medir el tiempo de sus ejecuciones."
   ]
  },
  {
   "cell_type": "code",
   "execution_count": null,
   "metadata": {},
   "outputs": [],
   "source": [
    "import time \n",
    "\n",
    "def imprimir_tiempo(ts):\n",
    "    print(\"--- %s mins ---\" % (float(time.time() - ts)/60))"
   ]
  },
  {
   "cell_type": "markdown",
   "metadata": {},
   "source": [
    "Implemente la función *data2Xy_bow* cuyo encabezado se presenta en el bloque de código a continuación. La función transforma en vectores a los comentarios con la bolsa de palabras almacenándolos en X y sus etiquetas en y."
   ]
  },
  {
   "cell_type": "code",
   "execution_count": null,
   "metadata": {},
   "outputs": [],
   "source": [
    "def data2Xy_bow(bow, data):\n",
    "    X = ...\n",
    "    y = ...\n",
    "    return X,y\n"
   ]
  },
  {
   "cell_type": "markdown",
   "metadata": {},
   "source": [
    "Considere la lista de pares de comentarios *lista_comentarios*. En la lista *lista_comentarios_estudiante* escriba pares de comentarios que considere pertinentes para ver su similitud según el *bow* definido. Imprima en pantalla los comentarios de ambas listas junto a la similaridad obtenida según la representación de *bow*."
   ]
  },
  {
   "cell_type": "code",
   "execution_count": null,
   "metadata": {},
   "outputs": [],
   "source": [
    "lista_comentarios = [\n",
    "    ('muy rica la comida, buenas pizzas', 'excelente pizza la salsa estaba muy rica'),\n",
    "    ('no me gustó para nada. mala atención', 'me pareció todo bastante malo'),\n",
    "    ('que buen servicio, hay que volver', 'excelente todo, me verán seguido por ahí'),\n",
    "    ('las tartas no me gustaron', 'muy bueno servicio'),\n",
    "]\n",
    "\n",
    "lista_comentarios_estudiante = [\n",
    "    # ...\n",
    "]\n",
    "\n",
    "# COMPLETE A PARTIR DE AQUI\n",
    "\n"
   ]
  },
  {
   "cell_type": "markdown",
   "metadata": {},
   "source": [
    "### Centroide de vectores"
   ]
  },
  {
   "cell_type": "markdown",
   "metadata": {
    "collapsed": true
   },
   "source": [
    "En esta parte se representará cada comentario como el centroide de los vectores de las palabras que lo forman. Se pide implementar la función *txt2vec* que dado un comentario y el repertorio de vectores calcula el promedio de los vectores de las palabras del comentario."
   ]
  },
  {
   "cell_type": "code",
   "execution_count": null,
   "metadata": {},
   "outputs": [],
   "source": [
    "def txt2vec(vectores, comentario):\n",
    "    pass\n",
    "            "
   ]
  },
  {
   "cell_type": "markdown",
   "metadata": {},
   "source": [
    "Implemente la función *data2Xy_vec* cuyo encabezado se presenta en el bloque de código a continuación. La función transforma a los comentarios en su representación de centroide de vectores (las filas de X) y sus etiquetas son las componente del vector y."
   ]
  },
  {
   "cell_type": "code",
   "execution_count": null,
   "metadata": {},
   "outputs": [],
   "source": [
    "def data2Xy_vec(vec, data):\n",
    "    X = ...\n",
    "    y = ...\n",
    "    return X, y\n",
    "    "
   ]
  },
  {
   "cell_type": "markdown",
   "metadata": {},
   "source": [
    "Despliegue en pantalla los pares de comentarios de *lista_comentarios* y *lista_comentarios_estudiante* junto con la similitud de sus representaciones de centroide de vectores."
   ]
  },
  {
   "cell_type": "code",
   "execution_count": null,
   "metadata": {},
   "outputs": [],
   "source": [
    "for c1,c2 in lista_comentarios:\n",
    "    pass\n",
    "    # ...\n",
    "\n",
    "# COMPLETAR\n"
   ]
  },
  {
   "cell_type": "markdown",
   "metadata": {},
   "source": [
    "Comente los resultados de similitud de oraciones obtenidos con las representaciones de bolsa de palabras y las de centroide de vectores.\n",
    "\n",
    "**Respuesta:**\n",
    "\n",
    "COMPLETAR CON LA RESPUESTA\n",
    "\n",
    "\n",
    "."
   ]
  },
  {
   "cell_type": "markdown",
   "metadata": {},
   "source": [
    "## Análisis de Sentimiento"
   ]
  },
  {
   "cell_type": "markdown",
   "metadata": {},
   "source": [
    "### Support Vector Machine"
   ]
  },
  {
   "cell_type": "markdown",
   "metadata": {
    "collapsed": true
   },
   "source": [
    "En esta sección entrene un clasificador *SVM* de *sklearn* para ambas representaciones (centroide de vectores y bolsa de palabras). Busque una configuración de hiperparámetros adecuada utilizando como referencia el conjunto de validación. Utilice para comparar resultados la medida *accuracy*."
   ]
  },
  {
   "cell_type": "code",
   "execution_count": null,
   "metadata": {},
   "outputs": [],
   "source": []
  },
  {
   "cell_type": "code",
   "execution_count": null,
   "metadata": {},
   "outputs": [],
   "source": []
  },
  {
   "cell_type": "markdown",
   "metadata": {},
   "source": [
    "Despliegue los resultados obtenidos con *SVM* para ambas representaciones."
   ]
  },
  {
   "cell_type": "code",
   "execution_count": null,
   "metadata": {},
   "outputs": [],
   "source": []
  },
  {
   "cell_type": "markdown",
   "metadata": {},
   "source": [
    "### Feed Fowrward Neural Networks"
   ]
  },
  {
   "cell_type": "markdown",
   "metadata": {
    "collapsed": true
   },
   "source": [
    "En esta sección utilizará un clasificador de red neuronal *feed forward* (*multilayer perceptron* - MLP) para realizar la clasificación de sentimiento de los comentarios considerando ambas representaciones: centroide de vectores y bolsa de palabras. Busque una configuración de hiperparámetros adecuada tomando como referencia la medida de *accuracy* obtenida en el conjunto de validación. "
   ]
  },
  {
   "cell_type": "code",
   "execution_count": null,
   "metadata": {},
   "outputs": [],
   "source": []
  },
  {
   "cell_type": "code",
   "execution_count": null,
   "metadata": {},
   "outputs": [],
   "source": []
  },
  {
   "cell_type": "markdown",
   "metadata": {},
   "source": [
    "Despliegue los mejores resultados obtenidos para ambas representaciones."
   ]
  },
  {
   "cell_type": "code",
   "execution_count": null,
   "metadata": {},
   "outputs": [],
   "source": []
  },
  {
   "cell_type": "markdown",
   "metadata": {},
   "source": [
    "### Mejores Resultados en Validación\n",
    "\n",
    "Analice los resultados obtenidos con cada clasificador y cada representación en el conjunto de validación. \n",
    "\n",
    "Tenga en cuenta que debe considerar al menos los siguientes 4 clasificadores:\n",
    "\n",
    "- SVM con BOW\n",
    "- SVM con Centroide\n",
    "- MLP con BOW\n",
    "- MLP con Centroide\n",
    "\n",
    "Realice los comentarios que considere adecuados respecto a la comparación y resultados obtenidos. Si lo desea puede agregar bloques de código que muestren resultados adicionales.\n",
    "\n",
    "**Respuesta:**\n",
    "\n",
    "COMPLETAR CON LA RESPUESTA\n",
    "\n",
    "\n",
    ".\n"
   ]
  },
  {
   "cell_type": "code",
   "execution_count": null,
   "metadata": {},
   "outputs": [],
   "source": []
  },
  {
   "cell_type": "markdown",
   "metadata": {},
   "source": [
    "## Evaluación y análisis de resultados"
   ]
  },
  {
   "cell_type": "markdown",
   "metadata": {},
   "source": [
    "### Precision, Recall y Matriz de Confusión"
   ]
  },
  {
   "cell_type": "markdown",
   "metadata": {},
   "source": [
    "Calcule la medida de *accuracy* en el conjunto de *test* para los modelos de la parte anterior. Despliegue los resultados obtenidos."
   ]
  },
  {
   "cell_type": "code",
   "execution_count": null,
   "metadata": {},
   "outputs": [],
   "source": []
  },
  {
   "cell_type": "markdown",
   "metadata": {
    "collapsed": true
   },
   "source": [
    "Seleccione uno de los modelos y analice sus errores en función de la matriz de confusión. Compute las medidas de *precision*, *recall* y *F*."
   ]
  },
  {
   "cell_type": "code",
   "execution_count": null,
   "metadata": {},
   "outputs": [],
   "source": []
  },
  {
   "cell_type": "markdown",
   "metadata": {},
   "source": [
    "Despliegue algunos casos de falsos positivos y falsos negativos del clasificador seleccionado."
   ]
  },
  {
   "cell_type": "code",
   "execution_count": null,
   "metadata": {},
   "outputs": [],
   "source": []
  },
  {
   "cell_type": "markdown",
   "metadata": {},
   "source": [
    "### Muestreo de oraciones"
   ]
  },
  {
   "cell_type": "markdown",
   "metadata": {
    "collapsed": true
   },
   "source": [
    "Utilice cada uno de los clasificadores considerados anteriormente para cada comentario de *lista_comentarios* y *lista_comentarios_estudiante*.\n",
    "\n",
    "Despliegue en pantalla cada comentario junto con la salida obtenida por cada clasificador. Realice los comentarios que considere pertinentes."
   ]
  },
  {
   "cell_type": "code",
   "execution_count": null,
   "metadata": {},
   "outputs": [],
   "source": []
  }
 ],
 "metadata": {
  "kernelspec": {
   "display_name": "Python 3",
   "language": "python",
   "name": "python3"
  },
  "language_info": {
   "codemirror_mode": {
    "name": "ipython",
    "version": 3
   },
   "file_extension": ".py",
   "mimetype": "text/x-python",
   "name": "python",
   "nbconvert_exporter": "python",
   "pygments_lexer": "ipython3",
   "version": "3.6.6"
  }
 },
 "nbformat": 4,
 "nbformat_minor": 1
}
