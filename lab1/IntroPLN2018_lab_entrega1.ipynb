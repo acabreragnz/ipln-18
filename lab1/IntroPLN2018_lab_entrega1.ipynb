{
 "cells": [
  {
   "cell_type": "markdown",
   "metadata": {},
   "source": [
    "# Entrega 1 - Introducción al Procesamiento del Lenguaje Natural 2018 \n"
   ]
  },
  {
   "cell_type": "markdown",
   "metadata": {},
   "source": [
    "Verifique que su entorno de Python 3 contiene todas las bibliotecas necesarias. Importe las bibliotecas nltk y sklearn y verifique que se importan sin errores."
   ]
  },
  {
   "cell_type": "code",
   "execution_count": 1,
   "metadata": {},
   "outputs": [
    {
     "name": "stdout",
     "output_type": "stream",
     "text": [
      "[nltk_data] Downloading package punkt to\n",
      "[nltk_data]     C:\\Users\\Luchong\\AppData\\Roaming\\nltk_data...\n",
      "[nltk_data]   Package punkt is already up-to-date!\n"
     ]
    }
   ],
   "source": [
    "import nltk\n",
    "nltk.download('punkt')\n",
    "import sklearn\n",
    "import json\n",
    "import os\n",
    "import re\n",
    "from pprint import pprint\n",
    "from random import shuffle, seed"
   ]
  },
  {
   "cell_type": "markdown",
   "metadata": {},
   "source": [
    "## Lectura de datos"
   ]
  },
  {
   "cell_type": "markdown",
   "metadata": {},
   "source": [
    "Observe el corpus contenido en el directorio *restaurante-review-dataset* extraído de [1]. Cargue el contenido del corpus en una variable de nombre *corpus*. Utilice como estructura de datos una lista de pares (comentario, valor), donde comentario es una string con el comentario y valor corresponde a la string \"POS\" o \"NEG\" si el comentario es positivo o negativo, respectivamente. Despliegue la cantidad de comentarios positivos y negativos.\n",
    " \n",
    "[1] Dubiau, L., & Ale, J. M. (2013). Análisis de Sentimientos sobre un Corpus en Español: Experimentación con un Caso de Estudio. In Proceedings of the 14th Argentine Symposium on Artificial Intelligence, ASAI (pp. 36-47).\n"
   ]
  },
  {
   "cell_type": "code",
   "execution_count": 2,
   "metadata": {},
   "outputs": [
    {
     "name": "stdout",
     "output_type": "stream",
     "text": [
      "34808 comentarios positivos y 17633 comentarios negativos.\n"
     ]
    }
   ],
   "source": [
    "path = \"../dataset/restaurante-review-dataset/\"\n",
    "posPath = path + \"pos/\"\n",
    "negPath = path + \"neg/\"\n",
    "posFiles = os.listdir(posPath)\n",
    "negFiles = os.listdir(negPath)\n",
    "posJsons = [json.load(open(posPath + file)) for file in posFiles]\n",
    "negJsons = [json.load(open(negPath + file)) for file in negFiles]\n",
    "posCorpus = [(comentario,\"POS\") for lista in posJsons for comentario in lista]\n",
    "negCorpus = [(comentario,\"NEG\") for lista in negJsons for comentario in lista]\n",
    "corpus = posCorpus + negCorpus\n",
    "print(str(len(posCorpus)) + \" comentarios positivos y \" + str(len(negCorpus)) + \" comentarios negativos.\")"
   ]
  },
  {
   "cell_type": "markdown",
   "metadata": {},
   "source": [
    "Guarde los comentarios (sin importar el valor que tenga asignado) en una lista llamada *comentarios*. Reordene esta lista aleatoriamente. Utilice una semilla para el generador aleatorio para que sus resultados sean reproducibles. Despliegue los 3 primeros elementos de la lista *comentarios*."
   ]
  },
  {
   "cell_type": "code",
   "execution_count": 3,
   "metadata": {},
   "outputs": [
    {
     "name": "stdout",
     "output_type": "stream",
     "text": [
      "['Algo diferente sobre todo por la cordialidad y el servicio. Es en una casa '\n",
      " 'antigua, dentro de una biblioteca publica, la comida excelentemente '\n",
      " 'casera,   y la atencion buenisima.',\n",
      " 'soy un neófito en la cultura gastronómica de buen nivel y aún así el trato y '\n",
      " 'la amabilidad son destacables...... te hacen sentir muy comodo tanto las '\n",
      " 'mozas como el dueño.\\r\\n'\n",
      " 'Los platos son riquisimos.... el menu degustación ( de 7 pasos) es '\n",
      " 'exquisito... repito que soy un novato de la cultura gastronomica pero   '\n",
      " 'platos, atencion y precios.... un 10 a todos.',\n",
      " 'El restaurante se quedo en el tiempo. El ambiente vintage, aunque limpio. '\n",
      " 'Los mozos, buenos veteranos como los que se solian encontrar. La comida '\n",
      " 'maso: lomo marsala estaba bien (dos tajadas con papines, $50,) costilla '\n",
      " 'riojana ($60, dos costillas con bastante nervio y grasa, el jamon crudo muy '\n",
      " 'salado, los pimientos sin gusto, y las arvejas parecian de lata, el huevo '\n",
      " 'frito un poco seco.) La panera no merece mencion. Los precios no son '\n",
      " 'baratos, las pociones no son abundantes. Muy pocos platos de cocina Alemana. '\n",
      " 'La cerveza estaba bien fria, como se debe. No me entusiasma volver.']\n"
     ]
    }
   ],
   "source": [
    "comentarios = [comentario for (comentario,_) in corpus]\n",
    "seed(3)\n",
    "shuffle(comentarios)\n",
    "pprint(comentarios[0:3])"
   ]
  },
  {
   "cell_type": "markdown",
   "metadata": {},
   "source": [
    "## Tokenización"
   ]
  },
  {
   "cell_type": "markdown",
   "metadata": {},
   "source": [
    "Transforme cada elemento de *comentarios* en una lista de palabras utilizando las funciones de tokenización de oraciones de nltk. Almacene el resultado en una variable llamada *corpus_tokens*. Note que *corpus_tokens* es una lista donde cada elemento es a su vez una lista con los *tokens* del comentario correspondiente."
   ]
  },
  {
   "cell_type": "code",
   "execution_count": 23,
   "metadata": {},
   "outputs": [],
   "source": [
    "#Usamos primero sent_tokenize para partir los comentarios en oraciones y luego word_tokenize para partir esas oraciones en palabras\n",
    "\n",
    "corpus_tokens = [[word for sent in nltk.tokenize.sent_tokenize(comment, language='spanish') for word in nltk.tokenize.word_tokenize(sent)] for comment in comentarios]"
   ]
  },
  {
   "cell_type": "markdown",
   "metadata": {},
   "source": [
    "Muestre los dos últimos elementos de *corpus_tokens*."
   ]
  },
  {
   "cell_type": "code",
   "execution_count": 24,
   "metadata": {},
   "outputs": [
    {
     "name": "stdout",
     "output_type": "stream",
     "text": [
      "[['Algo',\n",
      "  'diferente',\n",
      "  'sobre',\n",
      "  'todo',\n",
      "  'por',\n",
      "  'la',\n",
      "  'cordialidad',\n",
      "  'y',\n",
      "  'el',\n",
      "  'servicio',\n",
      "  '.',\n",
      "  'Es',\n",
      "  'en',\n",
      "  'una',\n",
      "  'casa',\n",
      "  'antigua',\n",
      "  ',',\n",
      "  'dentro',\n",
      "  'de',\n",
      "  'una',\n",
      "  'biblioteca',\n",
      "  'publica',\n",
      "  ',',\n",
      "  'la',\n",
      "  'comida',\n",
      "  'excelentemente',\n",
      "  'casera',\n",
      "  ',',\n",
      "  'y',\n",
      "  'la',\n",
      "  'atencion',\n",
      "  'buenisima',\n",
      "  '.'],\n",
      " ['soy',\n",
      "  'un',\n",
      "  'neófito',\n",
      "  'en',\n",
      "  'la',\n",
      "  'cultura',\n",
      "  'gastronómica',\n",
      "  'de',\n",
      "  'buen',\n",
      "  'nivel',\n",
      "  'y',\n",
      "  'aún',\n",
      "  'así',\n",
      "  'el',\n",
      "  'trato',\n",
      "  'y',\n",
      "  'la',\n",
      "  'amabilidad',\n",
      "  'son',\n",
      "  'destacables',\n",
      "  '...',\n",
      "  '...',\n",
      "  'te',\n",
      "  'hacen',\n",
      "  'sentir',\n",
      "  'muy',\n",
      "  'comodo',\n",
      "  'tanto',\n",
      "  'las',\n",
      "  'mozas',\n",
      "  'como',\n",
      "  'el',\n",
      "  'dueño',\n",
      "  '.',\n",
      "  'Los',\n",
      "  'platos',\n",
      "  'son',\n",
      "  'riquisimos',\n",
      "  '...',\n",
      "  '.',\n",
      "  'el',\n",
      "  'menu',\n",
      "  'degustación',\n",
      "  '(',\n",
      "  'de',\n",
      "  '7',\n",
      "  'pasos',\n",
      "  ')',\n",
      "  'es',\n",
      "  'exquisito',\n",
      "  '...',\n",
      "  'repito',\n",
      "  'que',\n",
      "  'soy',\n",
      "  'un',\n",
      "  'novato',\n",
      "  'de',\n",
      "  'la',\n",
      "  'cultura',\n",
      "  'gastronomica',\n",
      "  'pero',\n",
      "  'platos',\n",
      "  ',',\n",
      "  'atencion',\n",
      "  'y',\n",
      "  'precios',\n",
      "  '...',\n",
      "  '.',\n",
      "  'un',\n",
      "  '10',\n",
      "  'a',\n",
      "  'todos',\n",
      "  '.']]\n"
     ]
    }
   ],
   "source": [
    "pprint(corpus_tokens[:2])"
   ]
  },
  {
   "cell_type": "markdown",
   "metadata": {},
   "source": [
    "Realice otra tokenización de los *comentarios* utilizando expresiones regulares y el módulo re de Python. En esta oportunidad cumpla con las siguientes restricciones:\n",
    "\n",
    "- Reconocer tokens de por lo menos 3 caracteres de largo.\n",
    "- No reconocer símbolos de puntuación.\n",
    "- No reconocer tokens únicamente numéricos.\n",
    "\n",
    "Almacene el resultado en una variable llamada *corpus_tokens2*."
   ]
  },
  {
   "cell_type": "code",
   "execution_count": 6,
   "metadata": {},
   "outputs": [],
   "source": [
    "corpus_tokens2 = [re.findall(r'\\b(\\d*[^\\W\\d]+\\d*[^\\W\\d]*\\d*)\\b', comment) for comment in comentarios]"
   ]
  },
  {
   "cell_type": "markdown",
   "metadata": {},
   "source": [
    "Despliegue los dos últimos elementos de *corpus_tokens2*."
   ]
  },
  {
   "cell_type": "code",
   "execution_count": 15,
   "metadata": {},
   "outputs": [
    {
     "name": "stdout",
     "output_type": "stream",
     "text": [
      "['Algo diferente sobre todo por la cordialidad y el servicio. Es en una casa '\n",
      " 'antigua, dentro de una biblioteca publica, la comida excelentemente '\n",
      " 'casera,   y la atencion buenisima.',\n",
      " 'soy un neófito en la cultura gastronómica de buen nivel y aún así el trato y '\n",
      " 'la amabilidad son destacables...... te hacen sentir muy comodo tanto las '\n",
      " 'mozas como el dueño.\\r\\n'\n",
      " 'Los platos son riquisimos.... el menu degustación ( de 7 pasos) es '\n",
      " 'exquisito... repito que soy un novato de la cultura gastronomica pero   '\n",
      " 'platos, atencion y precios.... un 10 a todos.']\n",
      "[['Algo',\n",
      "  'diferente',\n",
      "  'sobre',\n",
      "  'todo',\n",
      "  'por',\n",
      "  'la',\n",
      "  'cordialidad',\n",
      "  'y',\n",
      "  'el',\n",
      "  'servicio',\n",
      "  'Es',\n",
      "  'en',\n",
      "  'una',\n",
      "  'casa',\n",
      "  'antigua',\n",
      "  'dentro',\n",
      "  'de',\n",
      "  'una',\n",
      "  'biblioteca',\n",
      "  'publica',\n",
      "  'la',\n",
      "  'comida',\n",
      "  'excelentemente',\n",
      "  'casera',\n",
      "  'y',\n",
      "  'la',\n",
      "  'atencion',\n",
      "  'buenisima'],\n",
      " ['soy',\n",
      "  'un',\n",
      "  'neófito',\n",
      "  'en',\n",
      "  'la',\n",
      "  'cultura',\n",
      "  'gastronómica',\n",
      "  'de',\n",
      "  'buen',\n",
      "  'nivel',\n",
      "  'y',\n",
      "  'aún',\n",
      "  'así',\n",
      "  'el',\n",
      "  'trato',\n",
      "  'y',\n",
      "  'la',\n",
      "  'amabilidad',\n",
      "  'son',\n",
      "  'destacables',\n",
      "  'te',\n",
      "  'hacen',\n",
      "  'sentir',\n",
      "  'muy',\n",
      "  'comodo',\n",
      "  'tanto',\n",
      "  'las',\n",
      "  'mozas',\n",
      "  'como',\n",
      "  'el',\n",
      "  'dueño',\n",
      "  'Los',\n",
      "  'platos',\n",
      "  'son',\n",
      "  'riquisimos',\n",
      "  'el',\n",
      "  'menu',\n",
      "  'degustación',\n",
      "  'de',\n",
      "  'pasos',\n",
      "  'es',\n",
      "  'exquisito',\n",
      "  'repito',\n",
      "  'que',\n",
      "  'soy',\n",
      "  'un',\n",
      "  'novato',\n",
      "  'de',\n",
      "  'la',\n",
      "  'cultura',\n",
      "  'gastronomica',\n",
      "  'pero',\n",
      "  'platos',\n",
      "  'atencion',\n",
      "  'y',\n",
      "  'precios',\n",
      "  'un',\n",
      "  'a',\n",
      "  'todos']]\n"
     ]
    }
   ],
   "source": [
    "pprint(comentarios[:2])\n",
    "pprint(corpus_tokens2[:2])"
   ]
  },
  {
   "cell_type": "markdown",
   "metadata": {},
   "source": [
    "# Bag of Words"
   ]
  },
  {
   "cell_type": "markdown",
   "metadata": {},
   "source": [
    "Utilice la clase CountVectorizer del módulo sklearn.feature_extraction.text para instanciar un objeto que transforme el corpus en un diccionario de las palabras más representativas de las oraciones del corpus. Investigue cada uno de los parámetros que acepta su constructor y configurelos de forma que considere adecuada. Justifique sus decisiones."
   ]
  },
  {
   "cell_type": "code",
   "execution_count": 8,
   "metadata": {},
   "outputs": [],
   "source": [
    "transf = sklearn.feature_extraction.text.CountVectorizer(max_df=0.95, min_df=100)"
   ]
  },
  {
   "cell_type": "code",
   "execution_count": null,
   "metadata": {},
   "outputs": [],
   "source": []
  },
  {
   "cell_type": "code",
   "execution_count": null,
   "metadata": {},
   "outputs": [],
   "source": []
  },
  {
   "cell_type": "markdown",
   "metadata": {},
   "source": [
    "Entrene la transformación e imprima las palabras resultantes en el diccionario. Imprima además la cantidad de palabras obtenidas en el diccionario."
   ]
  },
  {
   "cell_type": "code",
   "execution_count": 9,
   "metadata": {},
   "outputs": [
    {
     "data": {
      "text/plain": [
       "CountVectorizer(analyzer='word', binary=False, decode_error='strict',\n",
       "        dtype=<class 'numpy.int64'>, encoding='utf-8', input='content',\n",
       "        lowercase=True, max_df=0.95, max_features=None, min_df=100,\n",
       "        ngram_range=(1, 1), preprocessor=None, stop_words=None,\n",
       "        strip_accents=None, token_pattern='(?u)\\\\b\\\\w\\\\w+\\\\b',\n",
       "        tokenizer=None, vocabulary=None)"
      ]
     },
     "execution_count": 9,
     "metadata": {},
     "output_type": "execute_result"
    }
   ],
   "source": [
    "transf.fit(comentarios)"
   ]
  },
  {
   "cell_type": "code",
   "execution_count": 10,
   "metadata": {},
   "outputs": [
    {
     "name": "stdout",
     "output_type": "stream",
     "text": [
      "['00', '10', '100', '11', '12', '14', '15', '150', '20', '200', '21', '22', '23', '25', '30', '35', '40', '45', '50', '60', '70', '80', '90', 'abajo', 'abierto', 'absolutamente', 'absoluto', 'abuela', 'abundante', 'abundantes', 'aca', 'accesible', 'accesibles', 'aceite', 'aceitosas', 'aceitunas', 'aceptable', 'acerca', 'achuras', 'acogedor', 'acompaña', 'acompañada', 'acompañado', 'acompañamiento', 'acompañar', 'acondicionado', 'acorde', 'acordes', 'acotada', 'acuerdo', 'acá', 'adecuada', 'adecuado', 'ademas', 'además', 'adentro', 'afuera', 'agradable', 'agradables', 'agua', 'aguas', 'ah', 'ahi', 'ahora', 'ahumado', 'ahí', 'aire', 'aires', 'ajo', 'al', 'alcohol', 'algo', 'alguien', 'algun', 'alguna', 'algunas', 'algunos', 'algún', 'alla', 'alli', 'allá', 'allí', 'almorzar', 'almuerzo', 'alrededor', 'alta', 'altamente', 'alternativa', 'alto', 'altos', 'altura', 'amabilidad', 'amable', 'amables', 'amantes', 'ambas', 'ambientacion', 'ambientación', 'ambientado', 'ambiente', 'ambos', 'amena', 'ameno', 'amiga', 'amigas', 'amigo', 'amigos', 'amor', 'amplia', 'ampliamente', 'amplio', 'and', 'aniversario', 'anoche', 'ante', 'anterior', 'anteriores', 'antes', 'antigua', 'aparte', 'apenas', 'aprox', 'aquellos', 'aqui', 'aquí', 'argentina', 'argentino', 'armenia', 'arriba', 'arroz', 'arte', 'artesanal', 'as', 'asado', 'asador', 'asi', 'aspecto', 'aspectos', 'así', 'atencion', 'atenciòn', 'atención', 'atender', 'atendernos', 'atendido', 'atendidos', 'atendieron', 'atendio', 'atendió', 'atenta', 'atentas', 'atento', 'atentos', 'atiende', 'atienden', 'atrás', 'aun', 'aunque', 'autor', 'ayer', 'año', 'años', 'aún', 'baja', 'bajo', 'bajó', 'bandeja', 'bar', 'barato', 'baratos', 'barbacoa', 'barbaro', 'barman', 'barra', 'barrio', 'barro', 'base', 'bastante', 'batatas', 'baño', 'baños', 'bebida', 'bebidas', 'belgrano', 'berenjenas', 'bien', 'bienvenida', 'bife', 'blanca', 'blanco', 'boca', 'bodega', 'bodegon', 'bodegón', 'bondiola', 'bonito', 'botella', 'brie', 'brindan', 'brownie', 'brunch', 'bs', 'buen', 'buena', 'buenas', 'buenisima', 'buenisimo', 'bueno', 'buenos', 'buenísima', 'buenísimo', 'buffet', 'busca', 'buscando', 'buscar', 'bárbaro', 'caballito', 'cabe', 'cabeza', 'cabra', 'cada', 'cafe', 'café', 'caja', 'calabaza', 'calida', 'calidad', 'calidez', 'calido', 'caliente', 'calientes', 'calle', 'calor', 'camarera', 'camareras', 'camarero', 'camareros', 'camarones', 'cambiado', 'cambiar', 'cambiaron', 'cambien', 'cambio', 'campo', 'cantidad', 'cantina', 'capital', 'cara', 'caras', 'cargo', 'carisimo', 'carne', 'carnes', 'caro', 'caros', 'carta', 'carísimo', 'casa', 'casera', 'caseras', 'casero', 'caseros', 'casi', 'caso', 'casona', 'casualidad', 'categoría', 'cava', 'cazuela', 'cañitas', 'cebolla', 'cena', 'cenamos', 'cenar', 'centolla', 'centro', 'cerca', 'cerdo', 'cero', 'cerrado', 'cerveza', 'cervezas', 'ceviche', 'champagne', 'champignones', 'charla', 'charlar', 'chef', 'cheff', 'chica', 'chicas', 'chico', 'chicos', 'china', 'chinchulines', 'chino', 'chiquito', 'chivito', 'chocolate', 'chorizo', 'cierto', 'cinco', 'ciudad', 'claramente', 'claro', 'clasico', 'cliente', 'clientes', 'clima', 'club', 'clásico', 'cobran', 'cobrar', 'cobraron', 'coccion', 'cocción', 'cocida', 'cocido', 'cocina', 'cocinar', 'cocinero', 'coincido', 'cola', 'colmo', 'color', 'colores', 'combinacion', 'combinaciones', 'combinación', 'combinado', 'come', 'comen', 'comensal', 'comensales', 'comentario', 'comentarios', 'comer', 'comes', 'comi', 'comida', 'comidas', 'comido', 'comiendo', 'comimos', 'como', 'comodo', 'compartimos', 'compartir', 'completa', 'completamente', 'completo', 'comun', 'comunes', 'comí', 'común', 'con', 'concepto', 'concurrido', 'condimentos', 'conejo', 'conforme', 'conformes', 'confortable', 'conocen', 'conocer', 'conocerlo', 'conozco', 'conseguir', 'contentos', 'contra', 'contrario', 'conversar', 'copa', 'copas', 'cordero', 'cordial', 'cordiales', 'cordialidad', 'correcta', 'correcto', 'correctos', 'corresponde', 'corta', 'cortada', 'cortado', 'corte', 'cortes', 'cortesía', 'cosa', 'cosas', 'costo', 'creer', 'crema', 'creo', 'crocante', 'cruda', 'crudas', 'crudo', 'crudos', 'crítica', 'cual', 'cuales', 'cualquier', 'cualquiera', 'cuando', 'cuanto', 'cuarta', 'cuatro', 'cubierto', 'cubiertos', 'cuchillo', 'cuenta', 'cuesta', 'cuidada', 'cuidado', 'cuidados', 'cumple', 'cumpleaños', 'cupon', 'cupón', 'curry', 'cálida', 'cálido', 'cómo', 'cómodo', 'da', 'daba', 'dado', 'dan', 'dar', 'darle', 'darse', 'de', 'debe', 'deben', 'deberia', 'deberian', 'debería', 'deberían', 'debido', 'debo', 'decepcion', 'decepcionante', 'decepcionó', 'decepción', 'decia', 'decidimos', 'decir', 'decoracion', 'decoración', 'decorado', 'decía', 'dedicación', 'dedicada', 'definitivamente', 'defrauda', 'degustacion', 'degustación', 'degustar', 'deja', 'dejaba', 'dejan', 'dejar', 'dejaron', 'dejen', 'dejo', 'dejó', 'del', 'delicia', 'deliciosa', 'deliciosas', 'delicioso', 'deliciosos', 'delivery', 'demas', 'demasiada', 'demasiado', 'demora', 'demoraron', 'demás', 'dentro', 'desabrida', 'desabrido', 'desagradable', 'desastre', 'desayunar', 'descuento', 'descuentos', 'descuidado', 'desde', 'desear', 'desilusión', 'despedida', 'despues', 'después', 'destaca', 'destacable', 'destacar', 'destaco', 'detalle', 'detalles', 'di', 'dia', 'dias', 'dice', 'dicen', 'dicho', 'dieron', 'diez', 'diferencia', 'diferente', 'diferentes', 'dificil', 'difícil', 'digno', 'digo', 'dije', 'dijeron', 'dijo', 'dinero', 'dio', 'directamente', 'disculpas', 'disfrutar', 'distendido', 'distinta', 'distintas', 'distinto', 'distintos', 'divertido', 'divina', 'divino', 'domingo', 'domingos', 'donde', 'dos', 'duda', 'dudarlo', 'dudas', 'dueña', 'dueño', 'dueños', 'dulce', 'dulces', 'dura', 'durante', 'duras', 'duro', 'duros', 'día', 'días', 'económico', 'efectivo', 'eficiente', 'ejecutivo', 'ejemplo', 'el', 'elaboración', 'elaborada', 'elaborados', 'elección', 'elegante', 'elegimos', 'elegir', 'elevado', 'elevados', 'ella', 'ellas', 'ello', 'ellos', 'embargo', 'empanada', 'empanadas', 'empezar', 'empleados', 'en', 'encanta', 'encantador', 'encantados', 'encanto', 'encantó', 'encargada', 'encargado', 'encima', 'encontramos', 'encontrar', 'encontre', 'encontré', 'encuentra', 'enorme', 'ensalada', 'ensaladas', 'entender', 'entiendo', 'entonces', 'entrada', 'entradas', 'entramos', 'entrar', 'entraña', 'entre', 'era', 'eramos', 'eran', 'error', 'es', 'esa', 'esas', 'escasa', 'escasas', 'escaso', 'escasos', 'escuchar', 'ese', 'esmerada', 'esmero', 'eso', 'esos', 'espacio', 'español', 'española', 'especial', 'especiales', 'especialidad', 'especialmente', 'especie', 'espectacular', 'espectaculares', 'espera', 'esperaba', 'esperamos', 'esperando', 'esperar', 'espero', 'espinaca', 'esposa', 'esposo', 'esquina', 'esta', 'estaba', 'estabamos', 'estaban', 'estacionamiento', 'estado', 'estamos', 'estan', 'estar', 'estas', 'este', 'estilo', 'esto', 'estos', 'estoy', 'estuve', 'estuvieron', 'estuvimos', 'estuvo', 'está', 'estábamos', 'están', 'esté', 'etc', 'eternidad', 'evidentemente', 'excelencia', 'excelente', 'excelentemente', 'excelentes', 'excepcional', 'excesivamente', 'excesivo', 'exelente', 'existe', 'expectativas', 'experiencia', 'explicar', 'exquisita', 'exquisitas', 'exquisito', 'exquisitos', 'extensa', 'extranjeros', 'extremadamente', 'fajitas', 'falla', 'falta', 'faltaba', 'fama', 'familia', 'familiar', 'fashion', 'favor', 'favorito', 'favoritos', 'fea', 'felicitaciones', 'felicito', 'feo', 'festejar', 'fiambres', 'fiasco', 'fideos', 'fijo', 'fin', 'final', 'finalmente', 'fines', 'flan', 'floja', 'flojo', 'fondo', 'fondue', 'food', 'forma', 'fotos', 'francesa', 'frente', 'fresca', 'frescas', 'fresco', 'frescos', 'frescura', 'fria', 'frias', 'frio', 'frios', 'fritas', 'frito', 'frutas', 'frutos', 'fría', 'frías', 'frío', 'fríos', 'fue', 'fuera', 'fueron', 'fuerte', 'fui', 'fuimos', 'fumador', 'fumadores', 'fué', 'fuí', 'gambas', 'gana', 'ganas', 'gas', 'gaseosa', 'gaseosas', 'gastamos', 'gastar', 'gastronomía', 'gastronómica', 'general', 'generosas', 'genial', 'gente', 'gigante', 'gourmet', 'gracias', 'gran', 'grande', 'grandes', 'grasa', 'grata', 'gratamente', 'gratis', 'groupon', 'grupo', 'grupos', 'guacamole', 'guarnicion', 'guarniciones', 'guarnición', 'guia', 'gusta', 'gustan', 'gustaron', 'gusto', 'gustos', 'gustó', 'guía', 'ha', 'haber', 'habia', 'habiamos', 'habian', 'habiendo', 'habitué', 'hablar', 'había', 'habíamos', 'habían', 'hace', 'hacen', 'hacer', 'hacerlo', 'hacia', 'haciendo', 'hacía', 'hambre', 'hamburguesa', 'hamburguesas', 'han', 'hasta', 'hay', 'haya', 'he', 'hecha', 'hechas', 'hecho', 'hechos', 'helada', 'heladera', 'helado', 'helados', 'hemos', 'hermosa', 'hermoso', 'hice', 'hicieron', 'hicimos', 'hielo', 'hija', 'hijo', 'hijos', 'historia', 'hizo', 'hojas', 'hongos', 'hora', 'horario', 'horas', 'horno', 'horrible', 'hotel', 'hoy', 'hs', 'hubiera', 'hubiese', 'hubo', 'huevo', 'humo', 'humor', 'iba', 'ibamos', 'iban', 'idea', 'ideal', 'ido', 'igual', 'igualmente', 'iluminación', 'impecable', 'impecables', 'imperdible', 'imperdibles', 'importa', 'importante', 'imposible', 'impresionante', 'in', 'incluido', 'incluso', 'incluye', 'incomible', 'incomibles', 'increible', 'increibles', 'increíble', 'increíbles', 'informal', 'ingredientes', 'inigualable', 'inmejorable', 'inolvidable', 'insuperable', 'interesante', 'interesantes', 'interior', 'intimidad', 'intimo', 'invierno', 'invita', 'invitaron', 'ir', 'italia', 'italiana', 'italiano', 'jamas', 'jamon', 'jamás', 'jamón', 'japonesa', 'jardín', 'jazz', 'joven', 'juegos', 'jueves', 'jugo', 'jugoso', 'juntas', 'junto', 'justa', 'justifica', 'justo', 'la', 'lado', 'lados', 'lamentable', 'lamentablemente', 'langostinos', 'larga', 'largo', 'las', 'lasagna', 'lastima', 'lata', 'le', 'leche', 'lechuga', 'leer', 'lejos', 'lenta', 'lento', 'les', 'libre', 'limonada', 'limpieza', 'limpio', 'limón', 'linda', 'lindo', 'lista', 'literalmente', 'llama', 'llamar', 'llega', 'llegamos', 'llegar', 'llegaron', 'llego', 'llegue', 'llegó', 'llena', 'lleno', 'lleva', 'llevamos', 'llevar', 'lleve', 'llevo', 'lo', 'local', 'logrado', 'logrados', 'lomo', 'los', 'luces', 'luego', 'lugar', 'lugares', 'lujo', 'lunes', 'luz', 'lástima', 'madera', 'madero', 'maitre', 'mal', 'mala', 'malas', 'malbec', 'malisima', 'malisimo', 'malo', 'malos', 'malísima', 'manera', 'manjar', 'mano', 'manteca', 'mantener', 'mantiene', 'manzana', 'mar', 'maracuya', 'maracuyá', 'maravilla', 'maravillosa', 'maravilloso', 'marido', 'mariscos', 'martes', 'mas', 'masa', 'matambre', 'matambrito', 'materia', 'mayor', 'mayoria', 'mayoría', 'me', 'media', 'medida', 'medio', 'mediocre', 'mediodia', 'mediodía', 'mejillones', 'mejor', 'mejorar', 'mejores', 'menor', 'menos', 'menu', 'menú', 'merece', 'merendar', 'merienda', 'merluza', 'mes', 'mesa', 'mesas', 'mesera', 'meses', 'mexicana', 'mexicano', 'mezcla', 'mi', 'microondas', 'mientras', 'mil', 'milanesa', 'milanesas', 'min', 'mini', 'minimo', 'minutos', 'mis', 'misma', 'mismo', 'mismos', 'mitad', 'moda', 'moderna', 'moderno', 'modo', 'molesta', 'mollejas', 'momento', 'momentos', 'montón', 'morcilla', 'mostaza', 'mousse', 'moza', 'mozas', 'mozo', 'mozos', 'mucha', 'muchas', 'muchisimo', 'mucho', 'muchos', 'muchísimo', 'mujer', 'mundo', 'musica', 'muy', 'muzzarella', 'más', 'mí', 'mínimo', 'música', 'nachos', 'nacion', 'nación', 'nada', 'nadie', 'napolitana', 'naranja', 'natural', 'negra', 'ni', 'ningun', 'ninguna', 'ninguno', 'ningún', 'nivel', 'niños', 'no', 'noche', 'noches', 'nombre', 'normal', 'normales', 'norte', 'nos', 'nosotros', 'nota', 'notaba', 'novia', 'novio', 'nuestra', 'nuestras', 'nuestro', 'nuestros', 'nueva', 'nuevamente', 'nuevo', 'nuevos', 'nunca', 'obviamente', 'obvio', 'ocasiones', 'ocasión', 'ocupadas', 'oferta', 'oficio', 'ofrece', 'ofrecen', 'ofrecer', 'ofrecieron', 'ojo', 'ok', 'oleo', 'oliva', 'olor', 'olvidable', 'olvidar', 'olvidaron', 'olvido', 'onda', 'opcion', 'opciones', 'opción', 'opinión', 'oportunidad', 'oportunidades', 'original', 'originales', 'oscuro', 'otra', 'otras', 'otro', 'otros', 'paciencia', 'paella', 'paga', 'pagamos', 'pagando', 'pagar', 'pago', 'palabras', 'paladar', 'palermo', 'palta', 'pan', 'panceta', 'panera', 'panes', 'panqueque', 'papa', 'papas', 'papel', 'paquete', 'par', 'para', 'parece', 'parecen', 'parecia', 'parecian', 'parecido', 'parecieron', 'parecio', 'pareció', 'parecía', 'parecían', 'paredes', 'pareja', 'parejas', 'parking', 'parmesano', 'parrilla', 'parrillada', 'parrillas', 'parte', 'particular', 'pasa', 'pasable', 'pasada', 'pasado', 'pasados', 'pasamos', 'pasan', 'pasando', 'pasar', 'pasarla', 'pase', 'paso', 'pasos', 'pasta', 'pastas', 'pasé', 'pasó', 'patio', 'pato', 'país', 'pechuga', 'pedacitos', 'pedazo', 'pedazos', 'pedi', 'pedido', 'pedidos', 'pedimos', 'pedir', 'pedí', 'pegadas', 'pelo', 'pena', 'pensamos', 'pensando', 'peor', 'peores', 'pequeña', 'pequeñas', 'pequeño', 'pequeños', 'perder', 'perfecta', 'perfectamente', 'perfecto', 'permite', 'pero', 'persona', 'personal', 'personalizada', 'personalmente', 'personas', 'peruana', 'pesar', 'pescado', 'pescados', 'pese', 'pesima', 'pesimo', 'pesos', 'picada', 'picadas', 'picante', 'picantes', 'picar', 'pidan', 'pidieron', 'pidio', 'pidió', 'pido', 'piedra', 'pienso', 'pierdan', 'piezas', 'pimienta', 'pisco', 'piso', 'pizza', 'pizzas', 'pizzeria', 'pizzería', 'placer', 'plancha', 'plata', 'plato', 'platos', 'plaza', 'pleno', 'pobre', 'poca', 'pocas', 'poco', 'pocos', 'poder', 'podes', 'podia', 'podria', 'podría', 'podrían', 'podés', 'podía', 'pollo', 'ponen', 'poner', 'poquito', 'por', 'porcion', 'porciones', 'porción', 'porque', 'porteño', 'posible', 'positivo', 'postre', 'postres', 'precio', 'precios', 'precioso', 'predisposición', 'preferido', 'preferidos', 'prefiero', 'preguntamos', 'preguntar', 'preparación', 'preparada', 'preparado', 'preparados', 'preparan', 'presentacion', 'presentación', 'presentada', 'presentado', 'presentados', 'pretencioso', 'pretensiones', 'previa', 'prima', 'primer', 'primera', 'primero', 'principal', 'principales', 'principio', 'probado', 'probamos', 'probar', 'probe', 'problema', 'problemas', 'probé', 'producto', 'productos', 'profesional', 'profesionales', 'promedio', 'promo', 'promociones', 'promoción', 'pronto', 'propia', 'propina', 'propio', 'propuesta', 'propuestas', 'provoleta', 'pude', 'pudimos', 'pudo', 'pueda', 'puede', 'pueden', 'puedo', 'puerta', 'puerto', 'pues', 'puesto', 'pulpo', 'punto', 'puntos', 'pura', 'pure', 'puro', 'puré', 'pusieron', 'pésima', 'pésimo', 'que', 'queda', 'quedaba', 'quedamos', 'quedan', 'quedar', 'quedaron', 'quedarse', 'quede', 'quedo', 'quedé', 'quedó', 'queja', 'quemada', 'quemado', 'queres', 'queria', 'queriamos', 'quería', 'queríamos', 'queso', 'quesos', 'quien', 'quienes', 'quiera', 'quiere', 'quieren', 'quiero', 'quise', 'quisieron', 'quisimos', 'quizas', 'quizás', 'qué', 'rabas', 'rapido', 'raro', 'rato', 'ravioles', 'razonable', 'razonables', 're', 'realidad', 'realmente', 'recalentada', 'recalentadas', 'recalentado', 'recepcionista', 'recepción', 'recibieron', 'recien', 'recién', 'reclamar', 'reclamo', 'recomendable', 'recomendables', 'recomendacion', 'recomendaciones', 'recomendación', 'recomendado', 'recomendamos', 'recomendar', 'recomendaron', 'recomendo', 'recomendó', 'recomienda', 'recomiendo', 'recuerdo', 'regular', 'relacion', 'relación', 'relajado', 'rellena', 'relleno', 'rellenos', 'repetir', 'rescatable', 'reserva', 'reservado', 'reservar', 'reservas', 'respecto', 'respeto', 'respuesta', 'restaurant', 'restaurante', 'restaurantes', 'restaurants', 'resto', 'restos', 'restó', 'resulta', 'resultado', 'resulto', 'resultó', 'resumen', 'ribs', 'rica', 'ricas', 'rico', 'ricos', 'rio', 'riquisima', 'riquisimas', 'riquisimo', 'riquisimos', 'riquísima', 'riquísimas', 'riquísimo', 'riquísimos', 'risotto', 'rojo', 'rojos', 'roll', 'rolls', 'romántica', 'romántico', 'ropa', 'rosado', 'rucula', 'ruido', 'ruidoso', 'rápida', 'rápido', 'río', 'rúcula', 'sabado', 'sabe', 'saben', 'saber', 'sabia', 'sabor', 'sabores', 'sabrosa', 'sabrosas', 'sabroso', 'sabrosos', 'sabía', 'sal', 'salad', 'salado', 'sale', 'salen', 'salida', 'salimos', 'salio', 'salir', 'salió', 'salmon', 'salmón', 'salon', 'salsa', 'salsas', 'saludos', 'salvo', 'salón', 'san', 'sandwich', 'sandwiches', 'sashimi', 'satisfecho', 'satisfechos', 'se', 'sea', 'sean', 'seca', 'secas', 'seco', 'secos', 'sector', 'seguido', 'seguir', 'segun', 'segunda', 'segundo', 'seguramente', 'seguro', 'según', 'selección', 'semana', 'semanas', 'sencillamente', 'sencillo', 'sensación', 'sentamos', 'sentarse', 'senti', 'sentido', 'sentidos', 'sentimos', 'sentir', 'sentí', 'separadas', 'ser', 'seria', 'servicial', 'servicio', 'servida', 'servido', 'servidos', 'servilletas', 'servir', 'será', 'sería', 'señor', 'señora', 'show', 'si', 'sido', 'siempre', 'siendo', 'siente', 'siento', 'sigan', 'sigo', 'sigue', 'siguen', 'sillas', 'sillones', 'simple', 'simplemente', 'simples', 'simpática', 'simpático', 'sin', 'sinceramente', 'sino', 'siquiera', 'sirve', 'sirven', 'sirvieron', 'sistema', 'sitio', 'sobre', 'sobresaliente', 'sobretodo', 'soja', 'sola', 'solamente', 'solo', 'sommelier', 'somos', 'son', 'sopa', 'sorprende', 'sorprendio', 'sorprendió', 'sorpresa', 'sorrentinos', 'soy', 'su', 'suave', 'sublime', 'sucio', 'sucursal', 'suele', 'suelo', 'suerte', 'suficiente', 'sugerencia', 'sugerencias', 'suma', 'sumamente', 'super', 'superior', 'supo', 'suprema', 'supuestamente', 'supuesto', 'sus', 'sushi', 'sábado', 'sé', 'sí', 'sólo', 'súper', 'tabla', 'tacos', 'tal', 'tamaño', 'tambien', 'también', 'tampoco', 'tan', 'tanta', 'tantas', 'tanto', 'tantos', 'tapas', 'tapeo', 'tarda', 'tardan', 'tardaron', 'tarde', 'tardo', 'tardó', 'tarjeta', 'tarjetas', 'tarta', 'te', 'telmo', 'tema', 'temperatura', 'temprano', 'tempura', 'tenedor', 'tenemos', 'tener', 'tenes', 'tenga', 'tengan', 'tengo', 'tenia', 'teniamos', 'tenian', 'tenido', 'teniendo', 'tenue', 'tenés', 'tenía', 'teníamos', 'tenían', 'tercera', 'termina', 'terminado', 'terminamos', 'terminar', 'terraza', 'terrible', 'terror', 'texturas', 'thai', 'the', 'tibia', 'tibio', 'tiempo', 'tiempos', 'tiene', 'tienen', 'tierna', 'tierno', 'tipico', 'tipo', 'tira', 'tirada', 'tiramisu', 'tiramisú', 'tirando', 'to', 'tocó', 'toda', 'todas', 'todavia', 'todavía', 'todo', 'todos', 'tomamos', 'tomando', 'tomar', 'tomate', 'tomates', 'toque', 'torta', 'tortas', 'tortilla', 'tostadas', 'total', 'totalmente', 'trabajan', 'trabajo', 'tradicional', 'tradicionales', 'trae', 'traen', 'traer', 'traernos', 'trago', 'tragos', 'traigan', 'trajeron', 'trajo', 'tranquila', 'tranquilidad', 'tranquilo', 'trata', 'trato', 'tres', 'trucha', 'tu', 'turistas', 'tuve', 'tuvieron', 'tuvimos', 'tuvo', 'té', 'típica', 'típico', 'ubicacion', 'ubicación', 'ubicado', 'ultima', 'ultimo', 'un', 'una', 'unas', 'unica', 'unico', 'uno', 'unos', 'va', 'vacio', 'vacío', 'vajilla', 'vale', 'valen', 'valet', 'valor', 'vamos', 'van', 'variada', 'variado', 'variados', 'varias', 'variedad', 'variedades', 'varios', 'vas', 'vaso', 'vaya', 'vayan', 've', 'veces', 'vegetales', 'velada', 'velas', 'venden', 'venia', 'venir', 'venía', 'veo', 'ver', 'verano', 'verdad', 'verdadera', 'verdaderamente', 'verdadero', 'verde', 'verdeo', 'verdes', 'verdura', 'verduras', 'vereda', 'verguenza', 'vergüenza', 'vez', 'vi', 'viaje', 'vida', 'vieja', 'viejo', 'viejos', 'viene', 'vienen', 'viernes', 'vimos', 'vinieron', 'vino', 'vinos', 'visita', 'visitar', 'vista', 'visto', 'vivo', 'volcan', 'volcán', 'volumen', 'volvemos', 'volver', 'volvere', 'volveremos', 'volveria', 'volveré', 'volvería', 'volvi', 'volvimos', 'volví', 'voy', 'vuelta', 'vuelva', 'vuelvo', 'wok', 'ya', 'yendo', 'yo', 'zona', 'él', 'éramos', 'éste', 'íntimo', 'ñoquis', 'óleo', 'última', 'último', 'única', 'único']\n",
      "El diccionario tiene 1881 palabras.\n"
     ]
    }
   ],
   "source": [
    "diccionario = transf.get_feature_names()\n",
    "print(diccionario)\n",
    "print(\"El diccionario tiene \" + str(len(diccionario)) + \" palabras.\")"
   ]
  },
  {
   "cell_type": "markdown",
   "metadata": {},
   "source": [
    "Transforme todos los *comentarios* en vectores utilizando la transformación creada. Guarde las transformaciones en una lista llamada 'vectores':"
   ]
  },
  {
   "cell_type": "code",
   "execution_count": 11,
   "metadata": {},
   "outputs": [],
   "source": [
    "vectores = transf.transform(comentarios)"
   ]
  },
  {
   "cell_type": "markdown",
   "metadata": {},
   "source": [
    "## Similitud"
   ]
  },
  {
   "cell_type": "markdown",
   "metadata": {},
   "source": [
    "Escriba una función calcular_similitud(vect1, vect2) que dados dos vectores, devuelva un número en el rango [0, 1] donde 1 significa que los vectores son idénticos y 0 que son completamente diferentes. Puede utilizar medidas como la implementada en la función cosine del módulo scipy.spatial.distance u otra que considere adecuada."
   ]
  },
  {
   "cell_type": "code",
   "execution_count": null,
   "metadata": {},
   "outputs": [],
   "source": []
  },
  {
   "cell_type": "markdown",
   "metadata": {},
   "source": [
    "Vamos a definir los siguientes dos diccionarios:"
   ]
  },
  {
   "cell_type": "code",
   "execution_count": 12,
   "metadata": {},
   "outputs": [],
   "source": [
    "similar = {}\n",
    "similitud = {}"
   ]
  },
  {
   "cell_type": "markdown",
   "metadata": {},
   "source": [
    "El primer diccionario guardará para cada oración, el índice de la oración más similar a ella. Esto es, similar[i] = j indica que la j-esima oración, es la oración más similar a la i-esima oración.\n",
    "El segundo diccionario guardará el valor de similitud correspondiente. Si similiar[i] = j, entonces similitud[i] = calcular_similitud(oracion[i], oracion[j]).\n",
    "Implemente una fución llamada calcular_similitudes(vectores, similar, similitud) que dada la lista de vectores, construya los diccionarios similar y similitud:"
   ]
  },
  {
   "cell_type": "code",
   "execution_count": null,
   "metadata": {},
   "outputs": [],
   "source": []
  },
  {
   "cell_type": "markdown",
   "metadata": {},
   "source": [
    "Implemente una función llamada *imprimir_similares* que imprima los primeros N pares de comentarios más similares del corpus. Utilice un valor que considere adecuado para N (ej. N=50)."
   ]
  },
  {
   "cell_type": "code",
   "execution_count": null,
   "metadata": {},
   "outputs": [],
   "source": []
  },
  {
   "cell_type": "markdown",
   "metadata": {},
   "source": [
    "Ejecute las funciones calcular_similitudes e imprimir_similares. Utilice una porción del corpus que considere adecuada para que ejecute en un tiempo razonable (ej. los primeros 1000 comentarios). Despliegue los resultados y el tiempo transcurrido. Si lo desea puede incluir resultados en un bloque de texto al considerar una porción mayor. De ser así incluya la cantidad de elementos considerados y el tiempo transcurrido. "
   ]
  },
  {
   "cell_type": "code",
   "execution_count": null,
   "metadata": {},
   "outputs": [],
   "source": []
  },
  {
   "cell_type": "markdown",
   "metadata": {},
   "source": [
    "Analice los resultados obtenidos. ¿Que observa? ¿En qué opina que se podría mejorar?"
   ]
  },
  {
   "cell_type": "code",
   "execution_count": null,
   "metadata": {},
   "outputs": [],
   "source": []
  },
  {
   "cell_type": "markdown",
   "metadata": {},
   "source": [
    "## Bag of Words (con stemming)"
   ]
  },
  {
   "cell_type": "markdown",
   "metadata": {},
   "source": [
    "Utilice el parámetro 'tokenizer' de la clase CountVectorizer y conjuntamente la clase SpanishStemmer del módulo nltk.stem.snowball. Repita los experimentos realizados en la parte anterior utilizando el stemmer. Realice las comparaciones que considere pertinentes."
   ]
  },
  {
   "cell_type": "code",
   "execution_count": null,
   "metadata": {},
   "outputs": [],
   "source": []
  },
  {
   "cell_type": "code",
   "execution_count": null,
   "metadata": {},
   "outputs": [],
   "source": []
  },
  {
   "cell_type": "code",
   "execution_count": null,
   "metadata": {},
   "outputs": [],
   "source": []
  },
  {
   "cell_type": "code",
   "execution_count": null,
   "metadata": {},
   "outputs": [],
   "source": []
  },
  {
   "cell_type": "markdown",
   "metadata": {},
   "source": [
    "Al igual que en la parte anterior muestre los resultados para una porción del corpus y si lo desea incluya los resultados para una porción mayor. Despliegue el tiempo transcurrido."
   ]
  },
  {
   "cell_type": "code",
   "execution_count": null,
   "metadata": {},
   "outputs": [],
   "source": []
  },
  {
   "cell_type": "markdown",
   "metadata": {},
   "source": [
    "Justifique las decisiones tomadas y realice los comentarios que considere adecuados. Analice los resultados obtenidos. Compare los resultados con los obtenidos anteriormente. Comente los problemas que detecte en este enfoque."
   ]
  },
  {
   "cell_type": "code",
   "execution_count": null,
   "metadata": {},
   "outputs": [],
   "source": []
  }
 ],
 "metadata": {
  "kernelspec": {
   "display_name": "Python 3",
   "language": "python",
   "name": "python3"
  },
  "language_info": {
   "codemirror_mode": {
    "name": "ipython",
    "version": 3
   },
   "file_extension": ".py",
   "mimetype": "text/x-python",
   "name": "python",
   "nbconvert_exporter": "python",
   "pygments_lexer": "ipython3",
   "version": "3.6.5"
  }
 },
 "nbformat": 4,
 "nbformat_minor": 1
}
